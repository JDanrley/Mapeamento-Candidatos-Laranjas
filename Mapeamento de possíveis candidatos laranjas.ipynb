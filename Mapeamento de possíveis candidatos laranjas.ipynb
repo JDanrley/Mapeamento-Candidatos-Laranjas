{
 "cells": [
  {
   "cell_type": "markdown",
   "metadata": {},
   "source": [
    "# Mapeamento de possíveis candidaturas laranjas"
   ]
  },
  {
   "cell_type": "markdown",
   "metadata": {},
   "source": [
    "No decorrer deste trabalho, iremos trabalhar com os dataset's do TSE referentes aos resultados das eleições municipais de 2020."
   ]
  },
  {
   "cell_type": "markdown",
   "metadata": {},
   "source": [
    "O art. 10, § 3º, da Lei das Eleições (Lei 9.504 de 30 de Setembro de 1997), determina que, pelo menos, 30% (trinta por cento) das candidaturas efetivamente lançadas por um partido político seja destinada ao gênero oposto ao da maioria."
   ]
  },
  {
   "cell_type": "markdown",
   "metadata": {},
   "source": [
    "O objetivo do nosso trabalho é mapear possíveis candidaturas laranjas, tendo como critério a ausência de votos em candidatos deferidos para disputar o pleito."
   ]
  },
  {
   "cell_type": "markdown",
   "metadata": {},
   "source": [
    "### Importando as dependências e configurando a exibição dos DataFrames"
   ]
  },
  {
   "cell_type": "code",
   "execution_count": 1,
   "metadata": {},
   "outputs": [],
   "source": [
    "import geopandas as gpd\n",
    "import pandas as pd\n",
    "import json\n",
    "import matplotlib.pyplot as plt\n",
    "from branca.colormap import linear\n",
    "import folium\n",
    "import os\n",
    "br_estados = 'dados/br_states.json'\n",
    "geo_json_data = json.load(open(br_estados))\n",
    "pd.set_option('display.max_columns', None)"
   ]
  },
  {
   "cell_type": "markdown",
   "metadata": {},
   "source": [
    "Abaixo iremos importar os dados dos candidatos e dos resultados nominais por município.\n",
    "Os dados podem ser acessados no link: https://www.tse.jus.br/eleicoes/estatisticas/repositorio-de-dados-eleitorais-1/repositorio-de-dados-eleitorais"
   ]
  },
  {
   "cell_type": "markdown",
   "metadata": {},
   "source": [
    "Entretanto, não iremos extrair todos os dados dos dataset's. Abaixo definiremos uma lista de colunas que serão utilizadas, pois são úteis para os objetivos do estudo"
   ]
  },
  {
   "cell_type": "code",
   "execution_count": 2,
   "metadata": {},
   "outputs": [],
   "source": [
    "colunasCandidatos = ['SQ_CANDIDATO','NR_IDADE_DATA_POSSE', 'DS_GENERO', 'DS_GRAU_INSTRUCAO','DS_COR_RACA','DS_OCUPACAO']\n",
    "colunasResultados = ['NM_CANDIDATO', 'NM_URNA_CANDIDATO', 'NM_MUNICIPIO','SG_UF','SQ_CANDIDATO','DS_CARGO','DS_SITUACAO_CANDIDATURA','DS_DETALHE_SITUACAO_CAND','SG_PARTIDO','QT_VOTOS_NOMINAIS']"
   ]
  },
  {
   "cell_type": "code",
   "execution_count": null,
   "metadata": {},
   "outputs": [],
   "source": [
    "dfCandidatos = pd.read_csv('dados/candidatos/consulta_cand_2020_BRASIL.csv', delimiter=';', encoding='latin-1', usecols = colunasCandidatos)"
   ]
  },
  {
   "cell_type": "code",
   "execution_count": null,
   "metadata": {},
   "outputs": [],
   "source": [
    "dfResultados = pd.read_csv('dados/resultados/votacao_candidato_munzona_2020_BRASIL.csv', delimiter = ';', encoding = 'latin-1', usecols = colunasResultados)"
   ]
  },
  {
   "cell_type": "markdown",
   "metadata": {},
   "source": [
    "Agora, podemos observar os dados selecionados dos candidatos. Filtramos apenas os dados pertinentes para o nosso estudo. O nome de possíveis candidatos \"laranjas\" foram removidos, por não são informações pertinentes."
   ]
  },
  {
   "cell_type": "code",
   "execution_count": null,
   "metadata": {},
   "outputs": [],
   "source": [
    "dfCandidatos.head()"
   ]
  },
  {
   "cell_type": "markdown",
   "metadata": {},
   "source": [
    "### Filtrando os candidatos que não possuíram nenhum voto"
   ]
  },
  {
   "cell_type": "markdown",
   "metadata": {},
   "source": [
    "Neste momento, iremos preparar os dados para identificar os possíveis candidatos de fachada.\n",
    "\n",
    "O dataset não possui uma linha para cada candidato. Em diversos casos, várias linhas contabilizam a quantidade de votos parcial de um candidato. \n",
    "\n",
    "Para remover este problema, agruparemos os candidatos de acordo com o total de seus votos."
   ]
  },
  {
   "cell_type": "code",
   "execution_count": null,
   "metadata": {
    "scrolled": true
   },
   "outputs": [],
   "source": [
    "grupoVotosTotais = dfResultados.groupby('SQ_CANDIDATO').sum()\n",
    "grupoVotosTotais.head()"
   ]
  },
  {
   "cell_type": "markdown",
   "metadata": {},
   "source": [
    "Agora possuímos o valor total de votos do candidato nesta coluna. \n",
    "\n",
    "Iremos adicionar esta coluna ao DataFrame principal para facilitar nosso trabalho."
   ]
  },
  {
   "cell_type": "code",
   "execution_count": null,
   "metadata": {},
   "outputs": [],
   "source": [
    "dfResultados = pd.merge(dfResultados, grupoVotosTotais, on = 'SQ_CANDIDATO')"
   ]
  },
  {
   "cell_type": "code",
   "execution_count": null,
   "metadata": {},
   "outputs": [],
   "source": [
    "dfResultados.head(3)"
   ]
  },
  {
   "cell_type": "markdown",
   "metadata": {},
   "source": [
    "Acima, possuímos o DataFrame indicando a quantidade totais de votos do candidato. \n",
    "\n",
    "Agora, iremos remover a coluna de votos parciais."
   ]
  },
  {
   "cell_type": "code",
   "execution_count": null,
   "metadata": {},
   "outputs": [],
   "source": [
    "dfResultados = dfResultados.drop(columns=['QT_VOTOS_NOMINAIS_x'])\n",
    "dfResultados.columns = ['SG_UF', 'NM_MUNICIPIO', 'DS_CARGO', 'SQ_CANDIDATO', 'NM_CANDIDATO','NM_URNA_CANDIDATO', 'DS_SITUACAO_CANDIDATURA', 'DS_DETALHE_SITUACAO_CAND', 'SG_PARTIDO', 'QT_VOTOS_NOMINAIS']"
   ]
  },
  {
   "cell_type": "markdown",
   "metadata": {},
   "source": [
    "Abaixo iremos remover os duplicados, que existem em decorrência das múltiplas linhas que continham os dados parcias de votação."
   ]
  },
  {
   "cell_type": "code",
   "execution_count": null,
   "metadata": {},
   "outputs": [],
   "source": [
    "dfResultados.drop_duplicates(inplace = True)"
   ]
  },
  {
   "cell_type": "markdown",
   "metadata": {},
   "source": [
    "#### Critério de avaliação de possíveis candidatos laranjas"
   ]
  },
  {
   "cell_type": "markdown",
   "metadata": {},
   "source": [
    "Iremos mapear neste estudo, todos os candidatos ao legislativo que não possuíram nenhum voto, mesmo estando apto a ter seu nome na urna, e com o processo de candidatura deferido pela Justiça Eleitoral.\n",
    "\n",
    "Para isso, iremos remover todos os candidatos que não se encontram neste posição."
   ]
  },
  {
   "cell_type": "code",
   "execution_count": null,
   "metadata": {},
   "outputs": [],
   "source": [
    "dfCandidatosZeroVoto = dfResultados.query(\"QT_VOTOS_NOMINAIS == 0 and DS_SITUACAO_CANDIDATURA == 'APTO' and DS_DETALHE_SITUACAO_CAND == 'DEFERIDO'\")\n",
    "dfCandidatosZeroVoto.head(3)"
   ]
  },
  {
   "cell_type": "markdown",
   "metadata": {},
   "source": [
    "Com isso, podemos começar a extrair os primeiros resultados do estudo. Iremos armazenar alguns deles para exibi-los na seção de resultados."
   ]
  },
  {
   "cell_type": "markdown",
   "metadata": {},
   "source": [
    "Extraindo o relatório da quantidade de partidos com candidatos sem votos:"
   ]
  },
  {
   "cell_type": "code",
   "execution_count": null,
   "metadata": {},
   "outputs": [],
   "source": [
    "resultadosPartidos = dfCandidatosZeroVoto.groupby('SG_PARTIDO')['SG_PARTIDO'].count()\n",
    "resultadosPartidos.sort_values(inplace = True, ascending = False)"
   ]
  },
  {
   "cell_type": "markdown",
   "metadata": {},
   "source": [
    "### Extraindo resultados referentes aos candidatos."
   ]
  },
  {
   "cell_type": "markdown",
   "metadata": {},
   "source": [
    "Para extrair dados sobre os candidatos, precisaremos relacionar a base de dados dos candidatos sem votos com a base de dados de detalhes sobre o concorrente.\n",
    "\n",
    "O método \"merge\" abaixo foi utilizado para unir e relacionar estes dados."
   ]
  },
  {
   "cell_type": "code",
   "execution_count": null,
   "metadata": {},
   "outputs": [],
   "source": [
    "dfCandidatosZeroVoto = pd.merge(dfCandidatosZeroVoto, dfCandidatos, on = \"SQ_CANDIDATO\")"
   ]
  },
  {
   "cell_type": "markdown",
   "metadata": {},
   "source": [
    "Abaixo, os valores serão armazenados para exibição futura."
   ]
  },
  {
   "cell_type": "code",
   "execution_count": null,
   "metadata": {},
   "outputs": [],
   "source": [
    "grauEscolaridade = dfCandidatosZeroVoto.groupby(['DS_GRAU_INSTRUCAO'])['DS_GRAU_INSTRUCAO'].count().sort_values()\n",
    "estado = dfCandidatosZeroVoto.groupby(['SG_UF'])['SG_PARTIDO'].count().sort_values()\n",
    "genero = dfCandidatosZeroVoto.groupby(['DS_GENERO'])['DS_GENERO'].count().sort_values()\n",
    "etnia = dfCandidatosZeroVoto.groupby(['DS_COR_RACA'])['DS_COR_RACA'].count().sort_values()\n",
    "ocupacao = dfCandidatosZeroVoto.groupby(['DS_OCUPACAO'])['DS_OCUPACAO'].count().sort_values()"
   ]
  },
  {
   "cell_type": "markdown",
   "metadata": {},
   "source": [
    "### Extraindo resultados referentes às regiões e estados."
   ]
  },
  {
   "cell_type": "markdown",
   "metadata": {},
   "source": [
    "Este trabalho tem como objetivo mostrar em quais regiões e estados do Brasil estas candidaturas se concentram.\n",
    "\n",
    "Para isso, utilizaremos dados do IBGE que relacionam a posição da região (latitude e longitude) com o nome do município. \n",
    "\n",
    "Estes dados são fornecidos em formatos não suportados pela biblioteca Pandas. Por isso, utilizaremos o GeoPandas para leitura destas informações."
   ]
  },
  {
   "cell_type": "code",
   "execution_count": null,
   "metadata": {},
   "outputs": [],
   "source": [
    "dfLocal = gpd.read_file('dados/ShapefileIBGE/BR_Localidades_2010_v1.shp')\n",
    "dfLocal.query(\"NM_CATEGOR == 'CIDADE'\", inplace = True)\n",
    "dfLocal = dfLocal[['NM_DISTRIT', 'NM_UF', 'NM_CATEGOR', 'LONG', 'LAT']]\n",
    "dfLocal.columns = ['NM_MUNICIPIO', 'NM_UF', 'NM_CATEGOR', 'LONG', 'LAT']"
   ]
  },
  {
   "cell_type": "markdown",
   "metadata": {},
   "source": [
    "Após extrair o DataFrame com as localidades, iremos relacionar estes dados ao DataFrame de candidatos sem votos."
   ]
  },
  {
   "cell_type": "code",
   "execution_count": null,
   "metadata": {},
   "outputs": [],
   "source": [
    "zeroVotosLocal = pd.merge(dfCandidatosZeroVoto, dfLocal, on = 'NM_MUNICIPIO')\n",
    "zeroVotosLocal = zeroVotosLocal[['LAT', 'LONG']]\n",
    "zeroVotosUF = dfCandidatosZeroVoto['SG_UF']"
   ]
  },
  {
   "cell_type": "markdown",
   "metadata": {},
   "source": [
    "## Exibição dos resultados"
   ]
  },
  {
   "cell_type": "code",
   "execution_count": null,
   "metadata": {},
   "outputs": [],
   "source": [
    "def plotGrafico(fator, size, groupby, color, fontsize):\n",
    "    plt.rcParams.update({'font.size': fontsize})\n",
    "    plt.figure(figsize = size)\n",
    "    plt.xlabel(f\"\\nQuantidade de candidatos sem votos\")\n",
    "    plt.ylabel(f\"{fator}\")\n",
    "    plt.title(f\"\\nQuantidade de candidatos por {fator}\\n\")\n",
    "    plt.barh(groupby.index, groupby.values, color = color)\n",
    "    plt.show()"
   ]
  },
  {
   "cell_type": "code",
   "execution_count": null,
   "metadata": {},
   "outputs": [],
   "source": [
    "plotGrafico('Partido', (22,15), resultadosPartidos, 'red', 22)"
   ]
  },
  {
   "cell_type": "code",
   "execution_count": null,
   "metadata": {},
   "outputs": [],
   "source": [
    "plotGrafico('Grau de escolaridade', (20,10), grauEscolaridade, 'blue', 16)"
   ]
  },
  {
   "cell_type": "code",
   "execution_count": null,
   "metadata": {},
   "outputs": [],
   "source": [
    "plotGrafico('UF', (20,15), estado, 'green', 18)"
   ]
  },
  {
   "cell_type": "code",
   "execution_count": null,
   "metadata": {},
   "outputs": [],
   "source": [
    "plotGrafico('Sexo', (8,4), genero, 'black', 13)"
   ]
  },
  {
   "cell_type": "code",
   "execution_count": null,
   "metadata": {},
   "outputs": [],
   "source": [
    "plotGrafico('Etnia', (8,4), etnia, 'brown', 13)"
   ]
  },
  {
   "cell_type": "markdown",
   "metadata": {},
   "source": [
    "Por fim, temos a represenção por estado da quantidade de candidatos sem votos bruta abaixo."
   ]
  },
  {
   "cell_type": "code",
   "execution_count": null,
   "metadata": {},
   "outputs": [],
   "source": [
    "zeroVotosUF = zeroVotosUF.to_frame()\n",
    "zeroVotosUF = zeroVotosUF.groupby('SG_UF').SG_UF.count().to_frame()\n",
    "colormap = linear.OrRd_09.scale(0,614)\n",
    "zeroVotosUF = zeroVotosUF.to_dict()\n",
    "zeroVotosUF = zeroVotosUF['SG_UF']\n",
    "zeroVotosUF['DF'] = 0\n",
    "mapa = folium.Map(width=900, height = 600, location=[-13.77972, -47.92972], zoom_start = 4)\n",
    "folium.GeoJson(geo_json_data, name='2020', style_function=lambda feature: \n",
    "        {'fillColor': colormap(zeroVotosUF[feature['id']]),\n",
    "        'color': 'black',\n",
    "        'weight': 0.5,}\n",
    ").add_to(mapa)\n",
    "colormap.caption = 'Quantidade de candidatos sem nenhum voto por estado'\n",
    "colormap.add_to(mapa)\n",
    "folium.LayerControl(collapsed = True).add_to(mapa)\n",
    "mapa"
   ]
  }
 ],
 "metadata": {
  "kernelspec": {
   "display_name": "Python 3",
   "language": "python",
   "name": "python3"
  },
  "language_info": {
   "codemirror_mode": {
    "name": "ipython",
    "version": 3
   },
   "file_extension": ".py",
   "mimetype": "text/x-python",
   "name": "python",
   "nbconvert_exporter": "python",
   "pygments_lexer": "ipython3",
   "version": "3.8.3"
  }
 },
 "nbformat": 4,
 "nbformat_minor": 4
}
