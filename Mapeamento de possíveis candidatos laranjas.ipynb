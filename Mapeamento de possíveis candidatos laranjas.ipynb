{
 "cells": [
  {
   "cell_type": "markdown",
   "metadata": {},
   "source": [
    "# Mapeamento de possíveis candidaturas laranjas"
   ]
  },
  {
   "cell_type": "markdown",
   "metadata": {},
   "source": [
    "No decorrer deste trabalho, iremos trabalhar com os dataset's do TSE referentes aos resultados das eleições municipais de 2020."
   ]
  },
  {
   "cell_type": "markdown",
   "metadata": {},
   "source": [
    "O art. 10, § 3º, da Lei das Eleições (Lei 9.504 de 30 de Setembro de 1997), determina que, pelo menos, 30% (trinta por cento) das candidaturas efetivamente lançadas por um partido político seja destinada ao gênero oposto ao da maioria."
   ]
  },
  {
   "cell_type": "markdown",
   "metadata": {},
   "source": [
    "O objetivo do nosso trabalho é mapear possíveis candidaturas laranjas, tendo como critério a ausência de votos em candidatos deferidos para disputar o pleito."
   ]
  },
  {
   "cell_type": "markdown",
   "metadata": {},
   "source": [
    "### Importando as dependências e configurando a exibição dos DataFrames"
   ]
  },
  {
   "cell_type": "code",
   "execution_count": 1,
   "metadata": {},
   "outputs": [],
   "source": [
    "import geopandas as gdp\n",
    "import pandas as pd\n",
    "pd.set_option('display.max_columns', None)"
   ]
  },
  {
   "cell_type": "markdown",
   "metadata": {},
   "source": [
    "Abaixo iremos importar os dados dos candidatos e dos resultados nominais por município.\n",
    "Os dados podem ser acessados no link: https://www.tse.jus.br/eleicoes/estatisticas/repositorio-de-dados-eleitorais-1/repositorio-de-dados-eleitorais"
   ]
  },
  {
   "cell_type": "markdown",
   "metadata": {},
   "source": [
    "Entretanto, não iremos extrair todos os dados dos dataset's. Abaixo definiremos uma lista de colunas a ser utilizada, o que será útil futuramente no estudo."
   ]
  },
  {
   "cell_type": "code",
   "execution_count": 2,
   "metadata": {},
   "outputs": [],
   "source": [
    "colunasCandidatos = ['SQ_CANDIDATO','NR_IDADE_DATA_POSSE', 'DS_GENERO', 'DS_GRAU_INSTRUCAO','DS_COR_RACA','DS_OCUPACAO']\n",
    "colunasResultados = ['NM_MUNICIPIO','SG_UF','SQ_CANDIDATO','DS_CARGO','DS_SITUACAO_CANDIDATURA','DS_DETALHE_SITUACAO_CAND','SG_PARTIDO','QT_VOTOS_NOMINAIS']"
   ]
  },
  {
   "cell_type": "code",
   "execution_count": 3,
   "metadata": {},
   "outputs": [],
   "source": [
    "dfCandidatos = pd.read_csv('dados/candidatos/consulta_cand_2020_BRASIL.csv', delimiter=';', encoding='latin-1', usecols = colunasCandidatos)"
   ]
  },
  {
   "cell_type": "code",
   "execution_count": 4,
   "metadata": {},
   "outputs": [],
   "source": [
    "dfResultados = pd.read_csv('dados/resultados/votacao_candidato_munzona_2020_BRASIL.csv', delimiter = ';', encoding = 'latin-1', usecols = colunasResultados)"
   ]
  },
  {
   "cell_type": "markdown",
   "metadata": {},
   "source": [
    "Agora, podemos observar os dados selecionados dos candidatos. Filtramos apenas os dados pertinentes para o nosso estudo. O nome de possíveis candidatos \"laranjas\" foram removidos, por não são informações pertinentes."
   ]
  },
  {
   "cell_type": "code",
   "execution_count": 5,
   "metadata": {},
   "outputs": [
    {
     "data": {
      "text/html": [
       "<div>\n",
       "<style scoped>\n",
       "    .dataframe tbody tr th:only-of-type {\n",
       "        vertical-align: middle;\n",
       "    }\n",
       "\n",
       "    .dataframe tbody tr th {\n",
       "        vertical-align: top;\n",
       "    }\n",
       "\n",
       "    .dataframe thead th {\n",
       "        text-align: right;\n",
       "    }\n",
       "</style>\n",
       "<table border=\"1\" class=\"dataframe\">\n",
       "  <thead>\n",
       "    <tr style=\"text-align: right;\">\n",
       "      <th></th>\n",
       "      <th>SQ_CANDIDATO</th>\n",
       "      <th>NR_IDADE_DATA_POSSE</th>\n",
       "      <th>DS_GENERO</th>\n",
       "      <th>DS_GRAU_INSTRUCAO</th>\n",
       "      <th>DS_COR_RACA</th>\n",
       "      <th>DS_OCUPACAO</th>\n",
       "    </tr>\n",
       "  </thead>\n",
       "  <tbody>\n",
       "    <tr>\n",
       "      <th>0</th>\n",
       "      <td>210000883297</td>\n",
       "      <td>42</td>\n",
       "      <td>MASCULINO</td>\n",
       "      <td>ENSINO MÉDIO COMPLETO</td>\n",
       "      <td>BRANCA</td>\n",
       "      <td>AGRICULTOR</td>\n",
       "    </tr>\n",
       "    <tr>\n",
       "      <th>1</th>\n",
       "      <td>250001122285</td>\n",
       "      <td>49</td>\n",
       "      <td>MASCULINO</td>\n",
       "      <td>ENSINO MÉDIO COMPLETO</td>\n",
       "      <td>BRANCA</td>\n",
       "      <td>TÉCNICO DE QUÍMICA</td>\n",
       "    </tr>\n",
       "    <tr>\n",
       "      <th>2</th>\n",
       "      <td>250000983631</td>\n",
       "      <td>46</td>\n",
       "      <td>MASCULINO</td>\n",
       "      <td>ENSINO FUNDAMENTAL COMPLETO</td>\n",
       "      <td>BRANCA</td>\n",
       "      <td>MECÂNICO DE MANUTENÇÃO</td>\n",
       "    </tr>\n",
       "    <tr>\n",
       "      <th>3</th>\n",
       "      <td>200000980650</td>\n",
       "      <td>34</td>\n",
       "      <td>MASCULINO</td>\n",
       "      <td>ENSINO MÉDIO COMPLETO</td>\n",
       "      <td>BRANCA</td>\n",
       "      <td>VEREADOR</td>\n",
       "    </tr>\n",
       "    <tr>\n",
       "      <th>4</th>\n",
       "      <td>110001047590</td>\n",
       "      <td>51</td>\n",
       "      <td>MASCULINO</td>\n",
       "      <td>SUPERIOR COMPLETO</td>\n",
       "      <td>BRANCA</td>\n",
       "      <td>BIÓLOGO</td>\n",
       "    </tr>\n",
       "  </tbody>\n",
       "</table>\n",
       "</div>"
      ],
      "text/plain": [
       "   SQ_CANDIDATO  NR_IDADE_DATA_POSSE  DS_GENERO            DS_GRAU_INSTRUCAO  \\\n",
       "0  210000883297                   42  MASCULINO        ENSINO MÉDIO COMPLETO   \n",
       "1  250001122285                   49  MASCULINO        ENSINO MÉDIO COMPLETO   \n",
       "2  250000983631                   46  MASCULINO  ENSINO FUNDAMENTAL COMPLETO   \n",
       "3  200000980650                   34  MASCULINO        ENSINO MÉDIO COMPLETO   \n",
       "4  110001047590                   51  MASCULINO            SUPERIOR COMPLETO   \n",
       "\n",
       "  DS_COR_RACA             DS_OCUPACAO  \n",
       "0      BRANCA              AGRICULTOR  \n",
       "1      BRANCA      TÉCNICO DE QUÍMICA  \n",
       "2      BRANCA  MECÂNICO DE MANUTENÇÃO  \n",
       "3      BRANCA                VEREADOR  \n",
       "4      BRANCA                 BIÓLOGO  "
      ]
     },
     "execution_count": 5,
     "metadata": {},
     "output_type": "execute_result"
    }
   ],
   "source": [
    "dfCandidatos.head()"
   ]
  },
  {
   "cell_type": "markdown",
   "metadata": {},
   "source": [
    "Abaixo, os dados filtrados referentes aos resultados dos candidatos."
   ]
  },
  {
   "cell_type": "code",
   "execution_count": 6,
   "metadata": {},
   "outputs": [
    {
     "data": {
      "text/html": [
       "<div>\n",
       "<style scoped>\n",
       "    .dataframe tbody tr th:only-of-type {\n",
       "        vertical-align: middle;\n",
       "    }\n",
       "\n",
       "    .dataframe tbody tr th {\n",
       "        vertical-align: top;\n",
       "    }\n",
       "\n",
       "    .dataframe thead th {\n",
       "        text-align: right;\n",
       "    }\n",
       "</style>\n",
       "<table border=\"1\" class=\"dataframe\">\n",
       "  <thead>\n",
       "    <tr style=\"text-align: right;\">\n",
       "      <th></th>\n",
       "      <th>SG_UF</th>\n",
       "      <th>NM_MUNICIPIO</th>\n",
       "      <th>DS_CARGO</th>\n",
       "      <th>SQ_CANDIDATO</th>\n",
       "      <th>DS_SITUACAO_CANDIDATURA</th>\n",
       "      <th>DS_DETALHE_SITUACAO_CAND</th>\n",
       "      <th>SG_PARTIDO</th>\n",
       "      <th>QT_VOTOS_NOMINAIS</th>\n",
       "    </tr>\n",
       "  </thead>\n",
       "  <tbody>\n",
       "    <tr>\n",
       "      <th>0</th>\n",
       "      <td>CE</td>\n",
       "      <td>FORTALEZA</td>\n",
       "      <td>Vereador</td>\n",
       "      <td>60000936791</td>\n",
       "      <td>APTO</td>\n",
       "      <td>DEFERIDO</td>\n",
       "      <td>PSDB</td>\n",
       "      <td>29</td>\n",
       "    </tr>\n",
       "    <tr>\n",
       "      <th>1</th>\n",
       "      <td>AM</td>\n",
       "      <td>MANAUS</td>\n",
       "      <td>Vereador</td>\n",
       "      <td>40001182178</td>\n",
       "      <td>APTO</td>\n",
       "      <td>DEFERIDO</td>\n",
       "      <td>REPUBLICANOS</td>\n",
       "      <td>78</td>\n",
       "    </tr>\n",
       "    <tr>\n",
       "      <th>2</th>\n",
       "      <td>SP</td>\n",
       "      <td>CARDOSO</td>\n",
       "      <td>Vereador</td>\n",
       "      <td>250001266444</td>\n",
       "      <td>APTO</td>\n",
       "      <td>DEFERIDO</td>\n",
       "      <td>PSDB</td>\n",
       "      <td>11</td>\n",
       "    </tr>\n",
       "    <tr>\n",
       "      <th>3</th>\n",
       "      <td>SC</td>\n",
       "      <td>CRICIÚMA</td>\n",
       "      <td>Vereador</td>\n",
       "      <td>240000980207</td>\n",
       "      <td>APTO</td>\n",
       "      <td>DEFERIDO</td>\n",
       "      <td>PATRIOTA</td>\n",
       "      <td>2</td>\n",
       "    </tr>\n",
       "    <tr>\n",
       "      <th>4</th>\n",
       "      <td>MG</td>\n",
       "      <td>UBERABA</td>\n",
       "      <td>Vereador</td>\n",
       "      <td>130000757747</td>\n",
       "      <td>APTO</td>\n",
       "      <td>DEFERIDO</td>\n",
       "      <td>REPUBLICANOS</td>\n",
       "      <td>19</td>\n",
       "    </tr>\n",
       "  </tbody>\n",
       "</table>\n",
       "</div>"
      ],
      "text/plain": [
       "  SG_UF NM_MUNICIPIO  DS_CARGO  SQ_CANDIDATO DS_SITUACAO_CANDIDATURA  \\\n",
       "0    CE    FORTALEZA  Vereador   60000936791                    APTO   \n",
       "1    AM       MANAUS  Vereador   40001182178                    APTO   \n",
       "2    SP      CARDOSO  Vereador  250001266444                    APTO   \n",
       "3    SC     CRICIÚMA  Vereador  240000980207                    APTO   \n",
       "4    MG      UBERABA  Vereador  130000757747                    APTO   \n",
       "\n",
       "  DS_DETALHE_SITUACAO_CAND    SG_PARTIDO  QT_VOTOS_NOMINAIS  \n",
       "0                 DEFERIDO          PSDB                 29  \n",
       "1                 DEFERIDO  REPUBLICANOS                 78  \n",
       "2                 DEFERIDO          PSDB                 11  \n",
       "3                 DEFERIDO      PATRIOTA                  2  \n",
       "4                 DEFERIDO  REPUBLICANOS                 19  "
      ]
     },
     "execution_count": 6,
     "metadata": {},
     "output_type": "execute_result"
    }
   ],
   "source": [
    "dfResultados.head()"
   ]
  },
  {
   "cell_type": "markdown",
   "metadata": {},
   "source": [
    "## Filtrando os candidatos que não possuíram nenhum voto"
   ]
  },
  {
   "cell_type": "markdown",
   "metadata": {},
   "source": [
    "Neste momento, iremos preparar os dados para identificar o possíveis candidatos de fachada.\n",
    "\n",
    "Mas antes disso, precisamos garantir que removemos candidatos não-aptos a disputar o pleito ou indeferidos pela Justiça Eleitoral, o que é uma justificativa para o não recebimento de votos."
   ]
  },
  {
   "cell_type": "code",
   "execution_count": 7,
   "metadata": {
    "scrolled": true
   },
   "outputs": [
    {
     "data": {
      "text/html": [
       "<div>\n",
       "<style scoped>\n",
       "    .dataframe tbody tr th:only-of-type {\n",
       "        vertical-align: middle;\n",
       "    }\n",
       "\n",
       "    .dataframe tbody tr th {\n",
       "        vertical-align: top;\n",
       "    }\n",
       "\n",
       "    .dataframe thead th {\n",
       "        text-align: right;\n",
       "    }\n",
       "</style>\n",
       "<table border=\"1\" class=\"dataframe\">\n",
       "  <thead>\n",
       "    <tr style=\"text-align: right;\">\n",
       "      <th></th>\n",
       "      <th>SG_UF</th>\n",
       "      <th>NM_MUNICIPIO</th>\n",
       "      <th>DS_CARGO</th>\n",
       "      <th>SQ_CANDIDATO</th>\n",
       "      <th>DS_SITUACAO_CANDIDATURA</th>\n",
       "      <th>DS_DETALHE_SITUACAO_CAND</th>\n",
       "      <th>SG_PARTIDO</th>\n",
       "      <th>QT_VOTOS_NOMINAIS</th>\n",
       "    </tr>\n",
       "  </thead>\n",
       "  <tbody>\n",
       "    <tr>\n",
       "      <th>0</th>\n",
       "      <td>CE</td>\n",
       "      <td>FORTALEZA</td>\n",
       "      <td>Vereador</td>\n",
       "      <td>60000936791</td>\n",
       "      <td>APTO</td>\n",
       "      <td>DEFERIDO</td>\n",
       "      <td>PSDB</td>\n",
       "      <td>29</td>\n",
       "    </tr>\n",
       "    <tr>\n",
       "      <th>1</th>\n",
       "      <td>AM</td>\n",
       "      <td>MANAUS</td>\n",
       "      <td>Vereador</td>\n",
       "      <td>40001182178</td>\n",
       "      <td>APTO</td>\n",
       "      <td>DEFERIDO</td>\n",
       "      <td>REPUBLICANOS</td>\n",
       "      <td>78</td>\n",
       "    </tr>\n",
       "    <tr>\n",
       "      <th>2</th>\n",
       "      <td>SP</td>\n",
       "      <td>CARDOSO</td>\n",
       "      <td>Vereador</td>\n",
       "      <td>250001266444</td>\n",
       "      <td>APTO</td>\n",
       "      <td>DEFERIDO</td>\n",
       "      <td>PSDB</td>\n",
       "      <td>11</td>\n",
       "    </tr>\n",
       "    <tr>\n",
       "      <th>3</th>\n",
       "      <td>SC</td>\n",
       "      <td>CRICIÚMA</td>\n",
       "      <td>Vereador</td>\n",
       "      <td>240000980207</td>\n",
       "      <td>APTO</td>\n",
       "      <td>DEFERIDO</td>\n",
       "      <td>PATRIOTA</td>\n",
       "      <td>2</td>\n",
       "    </tr>\n",
       "    <tr>\n",
       "      <th>4</th>\n",
       "      <td>MG</td>\n",
       "      <td>UBERABA</td>\n",
       "      <td>Vereador</td>\n",
       "      <td>130000757747</td>\n",
       "      <td>APTO</td>\n",
       "      <td>DEFERIDO</td>\n",
       "      <td>REPUBLICANOS</td>\n",
       "      <td>19</td>\n",
       "    </tr>\n",
       "  </tbody>\n",
       "</table>\n",
       "</div>"
      ],
      "text/plain": [
       "  SG_UF NM_MUNICIPIO  DS_CARGO  SQ_CANDIDATO DS_SITUACAO_CANDIDATURA  \\\n",
       "0    CE    FORTALEZA  Vereador   60000936791                    APTO   \n",
       "1    AM       MANAUS  Vereador   40001182178                    APTO   \n",
       "2    SP      CARDOSO  Vereador  250001266444                    APTO   \n",
       "3    SC     CRICIÚMA  Vereador  240000980207                    APTO   \n",
       "4    MG      UBERABA  Vereador  130000757747                    APTO   \n",
       "\n",
       "  DS_DETALHE_SITUACAO_CAND    SG_PARTIDO  QT_VOTOS_NOMINAIS  \n",
       "0                 DEFERIDO          PSDB                 29  \n",
       "1                 DEFERIDO  REPUBLICANOS                 78  \n",
       "2                 DEFERIDO          PSDB                 11  \n",
       "3                 DEFERIDO      PATRIOTA                  2  \n",
       "4                 DEFERIDO  REPUBLICANOS                 19  "
      ]
     },
     "execution_count": 7,
     "metadata": {},
     "output_type": "execute_result"
    }
   ],
   "source": [
    "dfResultados.query(\"DS_SITUACAO_CANDIDATURA == 'APTO' and DS_DETALHE_SITUACAO_CAND == 'DEFERIDO'\", inplace = True)\n",
    "dfResultados.head()"
   ]
  },
  {
   "cell_type": "markdown",
   "metadata": {},
   "source": [
    "Após esta limpeza, iremos agrupar os números identificadores dos candidatos de acordo com a soma dos seus votos."
   ]
  },
  {
   "cell_type": "code",
   "execution_count": 20,
   "metadata": {},
   "outputs": [
    {
     "data": {
      "text/plain": [
       "493058"
      ]
     },
     "execution_count": 20,
     "metadata": {},
     "output_type": "execute_result"
    }
   ],
   "source": [
    "SeriesTotal = pd.Series(dfResultados.groupby('SQ_CANDIDATO').QT_VOTOS_NOMINAIS.sum())\n",
    "len(SeriesTotal)"
   ]
  },
  {
   "cell_type": "markdown",
   "metadata": {},
   "source": [
    "Com esta relação direta, iremos filtrar os candidatos que tiveram um total de votos igual a zero."
   ]
  },
  {
   "cell_type": "code",
   "execution_count": 17,
   "metadata": {},
   "outputs": [],
   "source": [
    "dfResultados.sort_values(by = ['SQ_CANDIDATO'], inplace = True)"
   ]
  },
  {
   "cell_type": "code",
   "execution_count": 21,
   "metadata": {},
   "outputs": [
    {
     "data": {
      "text/html": [
       "<div>\n",
       "<style scoped>\n",
       "    .dataframe tbody tr th:only-of-type {\n",
       "        vertical-align: middle;\n",
       "    }\n",
       "\n",
       "    .dataframe tbody tr th {\n",
       "        vertical-align: top;\n",
       "    }\n",
       "\n",
       "    .dataframe thead th {\n",
       "        text-align: right;\n",
       "    }\n",
       "</style>\n",
       "<table border=\"1\" class=\"dataframe\">\n",
       "  <thead>\n",
       "    <tr style=\"text-align: right;\">\n",
       "      <th></th>\n",
       "      <th>SG_UF</th>\n",
       "      <th>NM_MUNICIPIO</th>\n",
       "      <th>DS_CARGO</th>\n",
       "      <th>SQ_CANDIDATO</th>\n",
       "      <th>DS_SITUACAO_CANDIDATURA</th>\n",
       "      <th>DS_DETALHE_SITUACAO_CAND</th>\n",
       "      <th>SG_PARTIDO</th>\n",
       "      <th>QT_VOTOS_NOMINAIS</th>\n",
       "    </tr>\n",
       "  </thead>\n",
       "  <tbody>\n",
       "    <tr>\n",
       "      <th>257888</th>\n",
       "      <td>AC</td>\n",
       "      <td>ASSIS BRASIL</td>\n",
       "      <td>Vereador</td>\n",
       "      <td>10000641345</td>\n",
       "      <td>APTO</td>\n",
       "      <td>DEFERIDO</td>\n",
       "      <td>PSD</td>\n",
       "      <td>77</td>\n",
       "    </tr>\n",
       "    <tr>\n",
       "      <th>608047</th>\n",
       "      <td>AC</td>\n",
       "      <td>ASSIS BRASIL</td>\n",
       "      <td>Vereador</td>\n",
       "      <td>10000641347</td>\n",
       "      <td>APTO</td>\n",
       "      <td>DEFERIDO</td>\n",
       "      <td>PSD</td>\n",
       "      <td>23</td>\n",
       "    </tr>\n",
       "    <tr>\n",
       "      <th>143715</th>\n",
       "      <td>AC</td>\n",
       "      <td>ASSIS BRASIL</td>\n",
       "      <td>Vereador</td>\n",
       "      <td>10000641348</td>\n",
       "      <td>APTO</td>\n",
       "      <td>DEFERIDO</td>\n",
       "      <td>PSD</td>\n",
       "      <td>43</td>\n",
       "    </tr>\n",
       "    <tr>\n",
       "      <th>852413</th>\n",
       "      <td>AC</td>\n",
       "      <td>ASSIS BRASIL</td>\n",
       "      <td>Vereador</td>\n",
       "      <td>10000641349</td>\n",
       "      <td>APTO</td>\n",
       "      <td>DEFERIDO</td>\n",
       "      <td>PSD</td>\n",
       "      <td>59</td>\n",
       "    </tr>\n",
       "    <tr>\n",
       "      <th>642698</th>\n",
       "      <td>AC</td>\n",
       "      <td>ASSIS BRASIL</td>\n",
       "      <td>Vereador</td>\n",
       "      <td>10000641350</td>\n",
       "      <td>APTO</td>\n",
       "      <td>DEFERIDO</td>\n",
       "      <td>PSD</td>\n",
       "      <td>11</td>\n",
       "    </tr>\n",
       "    <tr>\n",
       "      <th>...</th>\n",
       "      <td>...</td>\n",
       "      <td>...</td>\n",
       "      <td>...</td>\n",
       "      <td>...</td>\n",
       "      <td>...</td>\n",
       "      <td>...</td>\n",
       "      <td>...</td>\n",
       "      <td>...</td>\n",
       "    </tr>\n",
       "    <tr>\n",
       "      <th>331272</th>\n",
       "      <td>TO</td>\n",
       "      <td>GOIATINS</td>\n",
       "      <td>Vereador</td>\n",
       "      <td>270001274471</td>\n",
       "      <td>APTO</td>\n",
       "      <td>DEFERIDO</td>\n",
       "      <td>SOLIDARIEDADE</td>\n",
       "      <td>23</td>\n",
       "    </tr>\n",
       "    <tr>\n",
       "      <th>811879</th>\n",
       "      <td>TO</td>\n",
       "      <td>CAMPOS LINDOS</td>\n",
       "      <td>Vereador</td>\n",
       "      <td>270001274474</td>\n",
       "      <td>APTO</td>\n",
       "      <td>DEFERIDO</td>\n",
       "      <td>SOLIDARIEDADE</td>\n",
       "      <td>14</td>\n",
       "    </tr>\n",
       "    <tr>\n",
       "      <th>57654</th>\n",
       "      <td>TO</td>\n",
       "      <td>JAÚ DO TOCANTINS</td>\n",
       "      <td>Prefeito</td>\n",
       "      <td>270001274657</td>\n",
       "      <td>APTO</td>\n",
       "      <td>DEFERIDO</td>\n",
       "      <td>PSC</td>\n",
       "      <td>992</td>\n",
       "    </tr>\n",
       "    <tr>\n",
       "      <th>677894</th>\n",
       "      <td>TO</td>\n",
       "      <td>ITACAJÁ</td>\n",
       "      <td>Vereador</td>\n",
       "      <td>270001275304</td>\n",
       "      <td>APTO</td>\n",
       "      <td>DEFERIDO</td>\n",
       "      <td>PT</td>\n",
       "      <td>116</td>\n",
       "    </tr>\n",
       "    <tr>\n",
       "      <th>260086</th>\n",
       "      <td>TO</td>\n",
       "      <td>AURORA DO TOCANTINS</td>\n",
       "      <td>Vereador</td>\n",
       "      <td>270001276242</td>\n",
       "      <td>APTO</td>\n",
       "      <td>DEFERIDO</td>\n",
       "      <td>PT</td>\n",
       "      <td>14</td>\n",
       "    </tr>\n",
       "  </tbody>\n",
       "</table>\n",
       "<p>931627 rows × 8 columns</p>\n",
       "</div>"
      ],
      "text/plain": [
       "       SG_UF         NM_MUNICIPIO  DS_CARGO  SQ_CANDIDATO  \\\n",
       "257888    AC         ASSIS BRASIL  Vereador   10000641345   \n",
       "608047    AC         ASSIS BRASIL  Vereador   10000641347   \n",
       "143715    AC         ASSIS BRASIL  Vereador   10000641348   \n",
       "852413    AC         ASSIS BRASIL  Vereador   10000641349   \n",
       "642698    AC         ASSIS BRASIL  Vereador   10000641350   \n",
       "...      ...                  ...       ...           ...   \n",
       "331272    TO             GOIATINS  Vereador  270001274471   \n",
       "811879    TO        CAMPOS LINDOS  Vereador  270001274474   \n",
       "57654     TO     JAÚ DO TOCANTINS  Prefeito  270001274657   \n",
       "677894    TO              ITACAJÁ  Vereador  270001275304   \n",
       "260086    TO  AURORA DO TOCANTINS  Vereador  270001276242   \n",
       "\n",
       "       DS_SITUACAO_CANDIDATURA DS_DETALHE_SITUACAO_CAND     SG_PARTIDO  \\\n",
       "257888                    APTO                 DEFERIDO            PSD   \n",
       "608047                    APTO                 DEFERIDO            PSD   \n",
       "143715                    APTO                 DEFERIDO            PSD   \n",
       "852413                    APTO                 DEFERIDO            PSD   \n",
       "642698                    APTO                 DEFERIDO            PSD   \n",
       "...                        ...                      ...            ...   \n",
       "331272                    APTO                 DEFERIDO  SOLIDARIEDADE   \n",
       "811879                    APTO                 DEFERIDO  SOLIDARIEDADE   \n",
       "57654                     APTO                 DEFERIDO            PSC   \n",
       "677894                    APTO                 DEFERIDO             PT   \n",
       "260086                    APTO                 DEFERIDO             PT   \n",
       "\n",
       "        QT_VOTOS_NOMINAIS  \n",
       "257888                 77  \n",
       "608047                 23  \n",
       "143715                 43  \n",
       "852413                 59  \n",
       "642698                 11  \n",
       "...                   ...  \n",
       "331272                 23  \n",
       "811879                 14  \n",
       "57654                 992  \n",
       "677894                116  \n",
       "260086                 14  \n",
       "\n",
       "[931627 rows x 8 columns]"
      ]
     },
     "execution_count": 21,
     "metadata": {},
     "output_type": "execute_result"
    }
   ],
   "source": [
    "dfResultados.drop_duplicates(subset=['SQ_CANDIDATO'], inplace = True)\n",
    "dfResultados."
   ]
  },
  {
   "cell_type": "markdown",
   "metadata": {},
   "source": [
    "Ou seja, a variável \"candidatosSemVotos\" referencia uma lista com todos os números sequenciais dos candidatos que não obtiveram nenhum voto na última eleição.\n",
    "\n",
    "Por fim, limparemos o DataFrame de resultados com apenas os candidatos identificados, assim, poderemos relacionar de forma mais rápida e eficaz outros dados como sexo, cidade, idade e outros atributos."
   ]
  },
  {
   "cell_type": "code",
   "execution_count": 10,
   "metadata": {},
   "outputs": [
    {
     "ename": "TypeError",
     "evalue": "'Series' objects are mutable, thus they cannot be hashed",
     "output_type": "error",
     "traceback": [
      "\u001b[1;31m---------------------------------------------------------------------------\u001b[0m",
      "\u001b[1;31mTypeError\u001b[0m                                 Traceback (most recent call last)",
      "\u001b[1;32m<ipython-input-10-057bc9a4305c>\u001b[0m in \u001b[0;36m<module>\u001b[1;34m\u001b[0m\n\u001b[0;32m      1\u001b[0m \u001b[0mcandidatosSemVotos\u001b[0m \u001b[1;33m=\u001b[0m \u001b[0mpd\u001b[0m\u001b[1;33m.\u001b[0m\u001b[0mSeries\u001b[0m\u001b[1;33m(\u001b[0m\u001b[0mcandidatosSemVotos\u001b[0m\u001b[1;33m)\u001b[0m\u001b[1;33m\u001b[0m\u001b[1;33m\u001b[0m\u001b[0m\n\u001b[1;32m----> 2\u001b[1;33m \u001b[0mdfResultados\u001b[0m\u001b[1;33m[\u001b[0m\u001b[0mdfResultados\u001b[0m\u001b[1;33m.\u001b[0m\u001b[0mSQ_CANDIDATO\u001b[0m \u001b[1;32min\u001b[0m \u001b[0mcandidatosSemVotos\u001b[0m\u001b[1;33m]\u001b[0m\u001b[1;33m\u001b[0m\u001b[1;33m\u001b[0m\u001b[0m\n\u001b[0m",
      "\u001b[1;32m~\\AppData\\Roaming\\Python\\Python38\\site-packages\\pandas\\core\\generic.py\u001b[0m in \u001b[0;36m__contains__\u001b[1;34m(self, key)\u001b[0m\n\u001b[0;32m   1716\u001b[0m     \u001b[1;32mdef\u001b[0m \u001b[0m__contains__\u001b[0m\u001b[1;33m(\u001b[0m\u001b[0mself\u001b[0m\u001b[1;33m,\u001b[0m \u001b[0mkey\u001b[0m\u001b[1;33m)\u001b[0m \u001b[1;33m->\u001b[0m \u001b[0mbool_t\u001b[0m\u001b[1;33m:\u001b[0m\u001b[1;33m\u001b[0m\u001b[1;33m\u001b[0m\u001b[0m\n\u001b[0;32m   1717\u001b[0m         \u001b[1;34m\"\"\"True if the key is in the info axis\"\"\"\u001b[0m\u001b[1;33m\u001b[0m\u001b[1;33m\u001b[0m\u001b[0m\n\u001b[1;32m-> 1718\u001b[1;33m         \u001b[1;32mreturn\u001b[0m \u001b[0mkey\u001b[0m \u001b[1;32min\u001b[0m \u001b[0mself\u001b[0m\u001b[1;33m.\u001b[0m\u001b[0m_info_axis\u001b[0m\u001b[1;33m\u001b[0m\u001b[1;33m\u001b[0m\u001b[0m\n\u001b[0m\u001b[0;32m   1719\u001b[0m \u001b[1;33m\u001b[0m\u001b[0m\n\u001b[0;32m   1720\u001b[0m     \u001b[1;33m@\u001b[0m\u001b[0mproperty\u001b[0m\u001b[1;33m\u001b[0m\u001b[1;33m\u001b[0m\u001b[0m\n",
      "\u001b[1;32m~\\AppData\\Roaming\\Python\\Python38\\site-packages\\pandas\\core\\indexes\\range.py\u001b[0m in \u001b[0;36m__contains__\u001b[1;34m(self, key)\u001b[0m\n\u001b[0;32m    331\u001b[0m \u001b[1;33m\u001b[0m\u001b[0m\n\u001b[0;32m    332\u001b[0m     \u001b[1;32mdef\u001b[0m \u001b[0m__contains__\u001b[0m\u001b[1;33m(\u001b[0m\u001b[0mself\u001b[0m\u001b[1;33m,\u001b[0m \u001b[0mkey\u001b[0m\u001b[1;33m:\u001b[0m \u001b[0mAny\u001b[0m\u001b[1;33m)\u001b[0m \u001b[1;33m->\u001b[0m \u001b[0mbool\u001b[0m\u001b[1;33m:\u001b[0m\u001b[1;33m\u001b[0m\u001b[1;33m\u001b[0m\u001b[0m\n\u001b[1;32m--> 333\u001b[1;33m         \u001b[0mhash\u001b[0m\u001b[1;33m(\u001b[0m\u001b[0mkey\u001b[0m\u001b[1;33m)\u001b[0m\u001b[1;33m\u001b[0m\u001b[1;33m\u001b[0m\u001b[0m\n\u001b[0m\u001b[0;32m    334\u001b[0m         \u001b[1;32mtry\u001b[0m\u001b[1;33m:\u001b[0m\u001b[1;33m\u001b[0m\u001b[1;33m\u001b[0m\u001b[0m\n\u001b[0;32m    335\u001b[0m             \u001b[0mkey\u001b[0m \u001b[1;33m=\u001b[0m \u001b[0mensure_python_int\u001b[0m\u001b[1;33m(\u001b[0m\u001b[0mkey\u001b[0m\u001b[1;33m)\u001b[0m\u001b[1;33m\u001b[0m\u001b[1;33m\u001b[0m\u001b[0m\n",
      "\u001b[1;32m~\\AppData\\Roaming\\Python\\Python38\\site-packages\\pandas\\core\\generic.py\u001b[0m in \u001b[0;36m__hash__\u001b[1;34m(self)\u001b[0m\n\u001b[0;32m   1663\u001b[0m \u001b[1;33m\u001b[0m\u001b[0m\n\u001b[0;32m   1664\u001b[0m     \u001b[1;32mdef\u001b[0m \u001b[0m__hash__\u001b[0m\u001b[1;33m(\u001b[0m\u001b[0mself\u001b[0m\u001b[1;33m)\u001b[0m\u001b[1;33m:\u001b[0m\u001b[1;33m\u001b[0m\u001b[1;33m\u001b[0m\u001b[0m\n\u001b[1;32m-> 1665\u001b[1;33m         raise TypeError(\n\u001b[0m\u001b[0;32m   1666\u001b[0m             \u001b[1;34mf\"{repr(type(self).__name__)} objects are mutable, \"\u001b[0m\u001b[1;33m\u001b[0m\u001b[1;33m\u001b[0m\u001b[0m\n\u001b[0;32m   1667\u001b[0m             \u001b[1;34mf\"thus they cannot be hashed\"\u001b[0m\u001b[1;33m\u001b[0m\u001b[1;33m\u001b[0m\u001b[0m\n",
      "\u001b[1;31mTypeError\u001b[0m: 'Series' objects are mutable, thus they cannot be hashed"
     ]
    }
   ],
   "source": [
    "candidatosSemVotos = pd.Series(candidatosSemVotos)\n",
    "dfResultados[dfResultados.SQ_CANDIDATO in candidatosSemVotos]"
   ]
  },
  {
   "cell_type": "code",
   "execution_count": null,
   "metadata": {},
   "outputs": [],
   "source": []
  }
 ],
 "metadata": {
  "kernelspec": {
   "display_name": "Python 3",
   "language": "python",
   "name": "python3"
  },
  "language_info": {
   "codemirror_mode": {
    "name": "ipython",
    "version": 3
   },
   "file_extension": ".py",
   "mimetype": "text/x-python",
   "name": "python",
   "nbconvert_exporter": "python",
   "pygments_lexer": "ipython3",
   "version": "3.8.3"
  }
 },
 "nbformat": 4,
 "nbformat_minor": 4
}
