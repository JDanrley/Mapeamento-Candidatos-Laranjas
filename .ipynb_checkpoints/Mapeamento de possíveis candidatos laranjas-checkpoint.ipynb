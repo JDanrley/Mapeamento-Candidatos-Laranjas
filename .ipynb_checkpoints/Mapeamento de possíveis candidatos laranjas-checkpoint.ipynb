{
 "cells": [
  {
   "cell_type": "markdown",
   "metadata": {},
   "source": [
    "# Mapeamento de possíveis candidaturas laranjas"
   ]
  },
  {
   "cell_type": "markdown",
   "metadata": {},
   "source": [
    "No decorrer deste trabalho, iremos trabalhar com os dataset's do TSE referentes aos resultados das eleições municipais de 2020."
   ]
  },
  {
   "cell_type": "markdown",
   "metadata": {},
   "source": [
    "O art. 10, § 3º, da Lei das Eleições (Lei 9.504 de 30 de Setembro de 1997), determina que, pelo menos, 30% (trinta por cento) das candidaturas efetivamente lançadas por um partido político seja destinada ao gênero oposto ao da maioria."
   ]
  },
  {
   "cell_type": "markdown",
   "metadata": {},
   "source": [
    "O objetivo do nosso trabalho é mapear possíveis candidaturas laranjas, tendo como critério a ausência de votos em candidatos deferidos para disputar o pleito."
   ]
  },
  {
   "cell_type": "markdown",
   "metadata": {},
   "source": [
    "### Importando as dependências e configurando a exibição dos DataFrames"
   ]
  },
  {
   "cell_type": "code",
   "execution_count": 1,
   "metadata": {},
   "outputs": [],
   "source": [
    "import geopandas as gpd\n",
    "import pandas as pd\n",
    "import json\n",
    "import matplotlib.pyplot as plt\n",
    "br_estados = 'dados/br_states.json'\n",
    "geo_json_data = json.load(open(br_estados))\n",
    "pd.set_option('display.max_columns', None)"
   ]
  },
  {
   "cell_type": "markdown",
   "metadata": {},
   "source": [
    "Abaixo iremos importar os dados dos candidatos e dos resultados nominais por município.\n",
    "Os dados podem ser acessados no link: https://www.tse.jus.br/eleicoes/estatisticas/repositorio-de-dados-eleitorais-1/repositorio-de-dados-eleitorais"
   ]
  },
  {
   "cell_type": "markdown",
   "metadata": {},
   "source": [
    "Entretanto, não iremos extrair todos os dados dos dataset's. Abaixo definiremos uma lista de colunas que serão utilizadas, pois são úteis para os objetivos do estudo"
   ]
  },
  {
   "cell_type": "code",
   "execution_count": 2,
   "metadata": {},
   "outputs": [],
   "source": [
    "colunasCandidatos = ['SQ_CANDIDATO','NR_IDADE_DATA_POSSE', 'DS_GENERO', 'DS_GRAU_INSTRUCAO','DS_COR_RACA','DS_OCUPACAO']\n",
    "colunasResultados = ['NM_CANDIDATO', 'NM_URNA_CANDIDATO', 'NM_MUNICIPIO','SG_UF','SQ_CANDIDATO','DS_CARGO','DS_SITUACAO_CANDIDATURA','DS_DETALHE_SITUACAO_CAND','SG_PARTIDO','QT_VOTOS_NOMINAIS']"
   ]
  },
  {
   "cell_type": "code",
   "execution_count": 3,
   "metadata": {},
   "outputs": [],
   "source": [
    "dfCandidatos = pd.read_csv('dados/candidatos/consulta_cand_2020_BRASIL.csv', delimiter=';', encoding='latin-1', usecols = colunasCandidatos)"
   ]
  },
  {
   "cell_type": "code",
   "execution_count": 4,
   "metadata": {},
   "outputs": [],
   "source": [
    "dfResultados = pd.read_csv('dados/resultados/votacao_candidato_munzona_2020_BRASIL.csv', delimiter = ';', encoding = 'latin-1', usecols = colunasResultados)"
   ]
  },
  {
   "cell_type": "markdown",
   "metadata": {},
   "source": [
    "Agora, podemos observar os dados selecionados dos candidatos. Filtramos apenas os dados pertinentes para o nosso estudo. O nome de possíveis candidatos \"laranjas\" foram removidos, por não são informações pertinentes."
   ]
  },
  {
   "cell_type": "code",
   "execution_count": 5,
   "metadata": {},
   "outputs": [
    {
     "data": {
      "text/html": [
       "<div>\n",
       "<style scoped>\n",
       "    .dataframe tbody tr th:only-of-type {\n",
       "        vertical-align: middle;\n",
       "    }\n",
       "\n",
       "    .dataframe tbody tr th {\n",
       "        vertical-align: top;\n",
       "    }\n",
       "\n",
       "    .dataframe thead th {\n",
       "        text-align: right;\n",
       "    }\n",
       "</style>\n",
       "<table border=\"1\" class=\"dataframe\">\n",
       "  <thead>\n",
       "    <tr style=\"text-align: right;\">\n",
       "      <th></th>\n",
       "      <th>SQ_CANDIDATO</th>\n",
       "      <th>NR_IDADE_DATA_POSSE</th>\n",
       "      <th>DS_GENERO</th>\n",
       "      <th>DS_GRAU_INSTRUCAO</th>\n",
       "      <th>DS_COR_RACA</th>\n",
       "      <th>DS_OCUPACAO</th>\n",
       "    </tr>\n",
       "  </thead>\n",
       "  <tbody>\n",
       "    <tr>\n",
       "      <th>0</th>\n",
       "      <td>210000883297</td>\n",
       "      <td>42</td>\n",
       "      <td>MASCULINO</td>\n",
       "      <td>ENSINO MÉDIO COMPLETO</td>\n",
       "      <td>BRANCA</td>\n",
       "      <td>AGRICULTOR</td>\n",
       "    </tr>\n",
       "    <tr>\n",
       "      <th>1</th>\n",
       "      <td>250001122285</td>\n",
       "      <td>49</td>\n",
       "      <td>MASCULINO</td>\n",
       "      <td>ENSINO MÉDIO COMPLETO</td>\n",
       "      <td>BRANCA</td>\n",
       "      <td>TÉCNICO DE QUÍMICA</td>\n",
       "    </tr>\n",
       "    <tr>\n",
       "      <th>2</th>\n",
       "      <td>250000983631</td>\n",
       "      <td>46</td>\n",
       "      <td>MASCULINO</td>\n",
       "      <td>ENSINO FUNDAMENTAL COMPLETO</td>\n",
       "      <td>BRANCA</td>\n",
       "      <td>MECÂNICO DE MANUTENÇÃO</td>\n",
       "    </tr>\n",
       "    <tr>\n",
       "      <th>3</th>\n",
       "      <td>200000980650</td>\n",
       "      <td>34</td>\n",
       "      <td>MASCULINO</td>\n",
       "      <td>ENSINO MÉDIO COMPLETO</td>\n",
       "      <td>BRANCA</td>\n",
       "      <td>VEREADOR</td>\n",
       "    </tr>\n",
       "    <tr>\n",
       "      <th>4</th>\n",
       "      <td>110001047590</td>\n",
       "      <td>51</td>\n",
       "      <td>MASCULINO</td>\n",
       "      <td>SUPERIOR COMPLETO</td>\n",
       "      <td>BRANCA</td>\n",
       "      <td>BIÓLOGO</td>\n",
       "    </tr>\n",
       "  </tbody>\n",
       "</table>\n",
       "</div>"
      ],
      "text/plain": [
       "   SQ_CANDIDATO  NR_IDADE_DATA_POSSE  DS_GENERO            DS_GRAU_INSTRUCAO  \\\n",
       "0  210000883297                   42  MASCULINO        ENSINO MÉDIO COMPLETO   \n",
       "1  250001122285                   49  MASCULINO        ENSINO MÉDIO COMPLETO   \n",
       "2  250000983631                   46  MASCULINO  ENSINO FUNDAMENTAL COMPLETO   \n",
       "3  200000980650                   34  MASCULINO        ENSINO MÉDIO COMPLETO   \n",
       "4  110001047590                   51  MASCULINO            SUPERIOR COMPLETO   \n",
       "\n",
       "  DS_COR_RACA             DS_OCUPACAO  \n",
       "0      BRANCA              AGRICULTOR  \n",
       "1      BRANCA      TÉCNICO DE QUÍMICA  \n",
       "2      BRANCA  MECÂNICO DE MANUTENÇÃO  \n",
       "3      BRANCA                VEREADOR  \n",
       "4      BRANCA                 BIÓLOGO  "
      ]
     },
     "execution_count": 5,
     "metadata": {},
     "output_type": "execute_result"
    }
   ],
   "source": [
    "dfCandidatos.head()"
   ]
  },
  {
   "cell_type": "markdown",
   "metadata": {},
   "source": [
    "### Filtrando os candidatos que não possuíram nenhum voto"
   ]
  },
  {
   "cell_type": "markdown",
   "metadata": {},
   "source": [
    "Neste momento, iremos preparar os dados para identificar os possíveis candidatos de fachada.\n",
    "\n",
    "O dataset não possui uma linha para cada candidato. Em diversos casos, várias linhas contabilizam a quantidade de votos parcial de um candidato. \n",
    "\n",
    "Para remover este problema, agruparemos os candidatos de acordo com o total de seus votos."
   ]
  },
  {
   "cell_type": "code",
   "execution_count": 6,
   "metadata": {
    "scrolled": true
   },
   "outputs": [
    {
     "data": {
      "text/html": [
       "<div>\n",
       "<style scoped>\n",
       "    .dataframe tbody tr th:only-of-type {\n",
       "        vertical-align: middle;\n",
       "    }\n",
       "\n",
       "    .dataframe tbody tr th {\n",
       "        vertical-align: top;\n",
       "    }\n",
       "\n",
       "    .dataframe thead th {\n",
       "        text-align: right;\n",
       "    }\n",
       "</style>\n",
       "<table border=\"1\" class=\"dataframe\">\n",
       "  <thead>\n",
       "    <tr style=\"text-align: right;\">\n",
       "      <th></th>\n",
       "      <th>QT_VOTOS_NOMINAIS</th>\n",
       "    </tr>\n",
       "    <tr>\n",
       "      <th>SQ_CANDIDATO</th>\n",
       "      <th></th>\n",
       "    </tr>\n",
       "  </thead>\n",
       "  <tbody>\n",
       "    <tr>\n",
       "      <th>10000641345</th>\n",
       "      <td>77</td>\n",
       "    </tr>\n",
       "    <tr>\n",
       "      <th>10000641346</th>\n",
       "      <td>0</td>\n",
       "    </tr>\n",
       "    <tr>\n",
       "      <th>10000641347</th>\n",
       "      <td>23</td>\n",
       "    </tr>\n",
       "    <tr>\n",
       "      <th>10000641348</th>\n",
       "      <td>43</td>\n",
       "    </tr>\n",
       "    <tr>\n",
       "      <th>10000641349</th>\n",
       "      <td>59</td>\n",
       "    </tr>\n",
       "  </tbody>\n",
       "</table>\n",
       "</div>"
      ],
      "text/plain": [
       "              QT_VOTOS_NOMINAIS\n",
       "SQ_CANDIDATO                   \n",
       "10000641345                  77\n",
       "10000641346                   0\n",
       "10000641347                  23\n",
       "10000641348                  43\n",
       "10000641349                  59"
      ]
     },
     "execution_count": 6,
     "metadata": {},
     "output_type": "execute_result"
    }
   ],
   "source": [
    "grupoVotosTotais = dfResultados.groupby('SQ_CANDIDATO').sum()\n",
    "grupoVotosTotais.head()"
   ]
  },
  {
   "cell_type": "markdown",
   "metadata": {},
   "source": [
    "Agora possuímos o valor total de votos do candidato nesta coluna. \n",
    "\n",
    "Iremos adicionar esta coluna ao DataFrame principal para facilitar nosso trabalho."
   ]
  },
  {
   "cell_type": "code",
   "execution_count": 7,
   "metadata": {},
   "outputs": [],
   "source": [
    "dfResultados = pd.merge(dfResultados, grupoVotosTotais, on = 'SQ_CANDIDATO')"
   ]
  },
  {
   "cell_type": "code",
   "execution_count": 8,
   "metadata": {},
   "outputs": [
    {
     "data": {
      "text/html": [
       "<div>\n",
       "<style scoped>\n",
       "    .dataframe tbody tr th:only-of-type {\n",
       "        vertical-align: middle;\n",
       "    }\n",
       "\n",
       "    .dataframe tbody tr th {\n",
       "        vertical-align: top;\n",
       "    }\n",
       "\n",
       "    .dataframe thead th {\n",
       "        text-align: right;\n",
       "    }\n",
       "</style>\n",
       "<table border=\"1\" class=\"dataframe\">\n",
       "  <thead>\n",
       "    <tr style=\"text-align: right;\">\n",
       "      <th></th>\n",
       "      <th>SG_UF</th>\n",
       "      <th>NM_MUNICIPIO</th>\n",
       "      <th>DS_CARGO</th>\n",
       "      <th>SQ_CANDIDATO</th>\n",
       "      <th>NM_CANDIDATO</th>\n",
       "      <th>NM_URNA_CANDIDATO</th>\n",
       "      <th>DS_SITUACAO_CANDIDATURA</th>\n",
       "      <th>DS_DETALHE_SITUACAO_CAND</th>\n",
       "      <th>SG_PARTIDO</th>\n",
       "      <th>QT_VOTOS_NOMINAIS_x</th>\n",
       "      <th>QT_VOTOS_NOMINAIS_y</th>\n",
       "    </tr>\n",
       "  </thead>\n",
       "  <tbody>\n",
       "    <tr>\n",
       "      <th>0</th>\n",
       "      <td>CE</td>\n",
       "      <td>FORTALEZA</td>\n",
       "      <td>Vereador</td>\n",
       "      <td>60000936791</td>\n",
       "      <td>MARIA IZABEL DIBE ROMCY</td>\n",
       "      <td>IZABEL ROMCY</td>\n",
       "      <td>APTO</td>\n",
       "      <td>DEFERIDO</td>\n",
       "      <td>PSDB</td>\n",
       "      <td>29</td>\n",
       "      <td>343</td>\n",
       "    </tr>\n",
       "    <tr>\n",
       "      <th>1</th>\n",
       "      <td>CE</td>\n",
       "      <td>FORTALEZA</td>\n",
       "      <td>Vereador</td>\n",
       "      <td>60000936791</td>\n",
       "      <td>MARIA IZABEL DIBE ROMCY</td>\n",
       "      <td>IZABEL ROMCY</td>\n",
       "      <td>APTO</td>\n",
       "      <td>DEFERIDO</td>\n",
       "      <td>PSDB</td>\n",
       "      <td>11</td>\n",
       "      <td>343</td>\n",
       "    </tr>\n",
       "    <tr>\n",
       "      <th>2</th>\n",
       "      <td>CE</td>\n",
       "      <td>FORTALEZA</td>\n",
       "      <td>Vereador</td>\n",
       "      <td>60000936791</td>\n",
       "      <td>MARIA IZABEL DIBE ROMCY</td>\n",
       "      <td>IZABEL ROMCY</td>\n",
       "      <td>APTO</td>\n",
       "      <td>DEFERIDO</td>\n",
       "      <td>PSDB</td>\n",
       "      <td>3</td>\n",
       "      <td>343</td>\n",
       "    </tr>\n",
       "  </tbody>\n",
       "</table>\n",
       "</div>"
      ],
      "text/plain": [
       "  SG_UF NM_MUNICIPIO  DS_CARGO  SQ_CANDIDATO             NM_CANDIDATO  \\\n",
       "0    CE    FORTALEZA  Vereador   60000936791  MARIA IZABEL DIBE ROMCY   \n",
       "1    CE    FORTALEZA  Vereador   60000936791  MARIA IZABEL DIBE ROMCY   \n",
       "2    CE    FORTALEZA  Vereador   60000936791  MARIA IZABEL DIBE ROMCY   \n",
       "\n",
       "  NM_URNA_CANDIDATO DS_SITUACAO_CANDIDATURA DS_DETALHE_SITUACAO_CAND  \\\n",
       "0      IZABEL ROMCY                    APTO                 DEFERIDO   \n",
       "1      IZABEL ROMCY                    APTO                 DEFERIDO   \n",
       "2      IZABEL ROMCY                    APTO                 DEFERIDO   \n",
       "\n",
       "  SG_PARTIDO  QT_VOTOS_NOMINAIS_x  QT_VOTOS_NOMINAIS_y  \n",
       "0       PSDB                   29                  343  \n",
       "1       PSDB                   11                  343  \n",
       "2       PSDB                    3                  343  "
      ]
     },
     "execution_count": 8,
     "metadata": {},
     "output_type": "execute_result"
    }
   ],
   "source": [
    "dfResultados.head(3)"
   ]
  },
  {
   "cell_type": "markdown",
   "metadata": {},
   "source": [
    "Acima, possuímos o DataFrame indicando a quantidade totais de votos do candidato. \n",
    "\n",
    "Agora, iremos remover a coluna de votos parciais."
   ]
  },
  {
   "cell_type": "code",
   "execution_count": 9,
   "metadata": {},
   "outputs": [],
   "source": [
    "dfResultados = dfResultados.drop(columns=['QT_VOTOS_NOMINAIS_x'])\n",
    "dfResultados.columns = ['SG_UF', 'NM_MUNICIPIO', 'DS_CARGO', 'SQ_CANDIDATO', 'NM_CANDIDATO','NM_URNA_CANDIDATO', 'DS_SITUACAO_CANDIDATURA', 'DS_DETALHE_SITUACAO_CAND', 'SG_PARTIDO', 'QT_VOTOS_NOMINAIS']"
   ]
  },
  {
   "cell_type": "markdown",
   "metadata": {},
   "source": [
    "Abaixo iremos remover os duplicados, que existem em decorrência das múltiplas linhas que continham os dados parcias de votação."
   ]
  },
  {
   "cell_type": "code",
   "execution_count": 10,
   "metadata": {},
   "outputs": [],
   "source": [
    "dfResultados.drop_duplicates(inplace = True)"
   ]
  },
  {
   "cell_type": "markdown",
   "metadata": {},
   "source": [
    "#### Critério de avaliação de possíveis candidatos laranjas"
   ]
  },
  {
   "cell_type": "markdown",
   "metadata": {},
   "source": [
    "Iremos mapear neste estudo, todos os candidatos ao legislativo que não possuíram nenhum voto, mesmo estando apto a ter seu nome na urna, e com o processo de candidatura deferido pela Justiça Eleitoral.\n",
    "\n",
    "Para isso, iremos remover todos os candidatos que não se encontram neste posição."
   ]
  },
  {
   "cell_type": "code",
   "execution_count": 11,
   "metadata": {},
   "outputs": [
    {
     "data": {
      "text/html": [
       "<div>\n",
       "<style scoped>\n",
       "    .dataframe tbody tr th:only-of-type {\n",
       "        vertical-align: middle;\n",
       "    }\n",
       "\n",
       "    .dataframe tbody tr th {\n",
       "        vertical-align: top;\n",
       "    }\n",
       "\n",
       "    .dataframe thead th {\n",
       "        text-align: right;\n",
       "    }\n",
       "</style>\n",
       "<table border=\"1\" class=\"dataframe\">\n",
       "  <thead>\n",
       "    <tr style=\"text-align: right;\">\n",
       "      <th></th>\n",
       "      <th>SG_UF</th>\n",
       "      <th>NM_MUNICIPIO</th>\n",
       "      <th>DS_CARGO</th>\n",
       "      <th>SQ_CANDIDATO</th>\n",
       "      <th>NM_CANDIDATO</th>\n",
       "      <th>NM_URNA_CANDIDATO</th>\n",
       "      <th>DS_SITUACAO_CANDIDATURA</th>\n",
       "      <th>DS_DETALHE_SITUACAO_CAND</th>\n",
       "      <th>SG_PARTIDO</th>\n",
       "      <th>QT_VOTOS_NOMINAIS</th>\n",
       "    </tr>\n",
       "  </thead>\n",
       "  <tbody>\n",
       "    <tr>\n",
       "      <th>96</th>\n",
       "      <td>SP</td>\n",
       "      <td>CUBATÃO</td>\n",
       "      <td>Vereador</td>\n",
       "      <td>250001242746</td>\n",
       "      <td>MARIANE CRISTINE SILVA MARQUES</td>\n",
       "      <td>MARIANE MARQUES</td>\n",
       "      <td>APTO</td>\n",
       "      <td>DEFERIDO</td>\n",
       "      <td>PMN</td>\n",
       "      <td>0</td>\n",
       "    </tr>\n",
       "    <tr>\n",
       "      <th>1001</th>\n",
       "      <td>CE</td>\n",
       "      <td>FORTALEZA</td>\n",
       "      <td>Vereador</td>\n",
       "      <td>60001098547</td>\n",
       "      <td>LIBANIA MARIA DE SOUSA PAIVA</td>\n",
       "      <td>LIBANIA</td>\n",
       "      <td>APTO</td>\n",
       "      <td>DEFERIDO</td>\n",
       "      <td>PL</td>\n",
       "      <td>0</td>\n",
       "    </tr>\n",
       "    <tr>\n",
       "      <th>2494</th>\n",
       "      <td>RJ</td>\n",
       "      <td>CASIMIRO DE ABREU</td>\n",
       "      <td>Vereador</td>\n",
       "      <td>190000928444</td>\n",
       "      <td>HIOHANA ANDRADE BASTOS COUTINHO</td>\n",
       "      <td>HIOHANA</td>\n",
       "      <td>APTO</td>\n",
       "      <td>DEFERIDO</td>\n",
       "      <td>PV</td>\n",
       "      <td>0</td>\n",
       "    </tr>\n",
       "  </tbody>\n",
       "</table>\n",
       "</div>"
      ],
      "text/plain": [
       "     SG_UF       NM_MUNICIPIO  DS_CARGO  SQ_CANDIDATO  \\\n",
       "96      SP            CUBATÃO  Vereador  250001242746   \n",
       "1001    CE          FORTALEZA  Vereador   60001098547   \n",
       "2494    RJ  CASIMIRO DE ABREU  Vereador  190000928444   \n",
       "\n",
       "                         NM_CANDIDATO NM_URNA_CANDIDATO  \\\n",
       "96     MARIANE CRISTINE SILVA MARQUES   MARIANE MARQUES   \n",
       "1001     LIBANIA MARIA DE SOUSA PAIVA           LIBANIA   \n",
       "2494  HIOHANA ANDRADE BASTOS COUTINHO           HIOHANA   \n",
       "\n",
       "     DS_SITUACAO_CANDIDATURA DS_DETALHE_SITUACAO_CAND SG_PARTIDO  \\\n",
       "96                      APTO                 DEFERIDO        PMN   \n",
       "1001                    APTO                 DEFERIDO         PL   \n",
       "2494                    APTO                 DEFERIDO         PV   \n",
       "\n",
       "      QT_VOTOS_NOMINAIS  \n",
       "96                    0  \n",
       "1001                  0  \n",
       "2494                  0  "
      ]
     },
     "execution_count": 11,
     "metadata": {},
     "output_type": "execute_result"
    }
   ],
   "source": [
    "dfCandidatosZeroVoto = dfResultados.query(\"QT_VOTOS_NOMINAIS == 0 and DS_SITUACAO_CANDIDATURA == 'APTO' and DS_DETALHE_SITUACAO_CAND == 'DEFERIDO'\")\n",
    "dfCandidatosZeroVoto.head(3)"
   ]
  },
  {
   "cell_type": "markdown",
   "metadata": {},
   "source": [
    "Com isso, podemos começar a extrair os primeiros resultados do estudo. Iremos armazenar alguns deles para exibi-los na seção de resultados."
   ]
  },
  {
   "cell_type": "markdown",
   "metadata": {},
   "source": [
    "Extraindo o relatório da quantidade de partidos com candidatos sem votos:"
   ]
  },
  {
   "cell_type": "code",
   "execution_count": 12,
   "metadata": {},
   "outputs": [],
   "source": [
    "resultadosPartidos = dfCandidatosZeroVoto.groupby('SG_PARTIDO')['SG_PARTIDO'].count()\n",
    "resultadosPartidos.sort_values(inplace = True, ascending = False)"
   ]
  },
  {
   "cell_type": "markdown",
   "metadata": {},
   "source": [
    "### Extraindo resultados referentes aos candidatos."
   ]
  },
  {
   "cell_type": "markdown",
   "metadata": {},
   "source": [
    "Para extrair dados sobre os candidatos, precisaremos relacionar a base de dados dos candidatos sem votos com a base de dados de detalhes sobre o concorrente.\n",
    "\n",
    "O método \"merge\" abaixo foi utilizado para unir e relacionar estes dados."
   ]
  },
  {
   "cell_type": "code",
   "execution_count": 13,
   "metadata": {},
   "outputs": [],
   "source": [
    "dfCandidatosZeroVoto = pd.merge(dfCandidatosZeroVoto, dfCandidatos, on = \"SQ_CANDIDATO\")"
   ]
  },
  {
   "cell_type": "markdown",
   "metadata": {},
   "source": [
    "Abaixo, os valores serão armazenados para exibição futura."
   ]
  },
  {
   "cell_type": "code",
   "execution_count": 14,
   "metadata": {},
   "outputs": [],
   "source": [
    "grauEscolaridade = dfCandidatosZeroVoto.groupby(['DS_GRAU_INSTRUCAO'])['DS_GRAU_INSTRUCAO'].count()\n",
    "estado = dfCandidatosZeroVoto.groupby(['SG_UF'])['SG_PARTIDO'].count()\n",
    "genero = dfCandidatosZeroVoto.groupby(['DS_GENERO'])['DS_GENERO'].count()\n",
    "etnia = dfCandidatosZeroVoto.groupby(['DS_COR_RACA'])['DS_COR_RACA'].count()\n",
    "ocupacao = dfCandidatosZeroVoto.groupby(['DS_OCUPACAO'])['DS_OCUPACAO'].count()"
   ]
  },
  {
   "cell_type": "markdown",
   "metadata": {},
   "source": [
    "### Extraindo resultados referentes às regiões e estados."
   ]
  },
  {
   "cell_type": "markdown",
   "metadata": {},
   "source": [
    "Este trabalho tem como objetivo mostrar em quais regiões e estados do Brasil estas candidaturas se concentram.\n",
    "\n",
    "Para isso, utilizaremos dados do IBGE que relacionam a posição da região (latitude e longitude) com o nome do município. \n",
    "\n",
    "Estes dados são fornecidos em formatos não suportados pela biblioteca Pandas. Por isso, utilizaremos o GeoPandas para leitura destas informações."
   ]
  },
  {
   "cell_type": "code",
   "execution_count": 15,
   "metadata": {},
   "outputs": [],
   "source": [
    "dfLocal = gpd.read_file('dados/ShapefileIBGE/BR_Localidades_2010_v1.shp')\n",
    "dfLocal.query(\"NM_CATEGOR == 'CIDADE'\", inplace = True)\n",
    "dfLocal = dfLocal[['NM_DISTRIT', 'NM_UF', 'NM_CATEGOR', 'LONG', 'LAT']]\n",
    "dfLocal.columns = ['NM_MUNICIPIO', 'NM_UF', 'NM_CATEGOR', 'LONG', 'LAT']"
   ]
  },
  {
   "cell_type": "markdown",
   "metadata": {},
   "source": [
    "Após extrair o DataFrame com as localidades, iremos relacionar estes dados ao DataFrame de candidatos sem votos."
   ]
  },
  {
   "cell_type": "code",
   "execution_count": 16,
   "metadata": {},
   "outputs": [],
   "source": [
    "zeroVotosLocal = pd.merge(dfCandidatosZeroVoto, dfLocal, on = 'NM_MUNICIPIO')\n",
    "zeroVotosLocal = zeroVotosLocal[['LAT', 'LONG']]\n",
    "zeroVotosUF = dfCandidatosZeroVoto['SG_UF']"
   ]
  },
  {
   "cell_type": "markdown",
   "metadata": {},
   "source": [
    "## Exibição dos resultados"
   ]
  },
  {
   "cell_type": "code",
   "execution_count": 44,
   "metadata": {},
   "outputs": [],
   "source": [
    "plt.rcParams.update({'font.size': 22})\n",
    "def plotGrafico(fator, size = (20,15) ,groupby, color):\n",
    "    plt.figure(figsize = (20,15))\n",
    "    plt.xlabel(f\"\\nQuantidade de candidatos sem votos por {fator}\\n\")\n",
    "    plt.ylabel(f\"{fator}\")\n",
    "    plt.title(f\"\\nQuantidade de candidatos por {fator}\\n\")\n",
    "    plt.barh(groupby.index, groupby.values, color = color)\n",
    "    plt.show()"
   ]
  },
  {
   "cell_type": "code",
   "execution_count": 45,
   "metadata": {},
   "outputs": [
    {
     "data": {
      "image/png": "[encoded data removed]",
      "text/plain": [
       "<Figure size 1440x1080 with 1 Axes>"
      ]
     },
     "metadata": {
      "needs_background": "light"
     },
     "output_type": "display_data"
    }
   ],
   "source": [
    "plotGrafico('Partido', resultadosPartidos, 'red')"
   ]
  },
  {
   "cell_type": "code",
   "execution_count": 31,
   "metadata": {},
   "outputs": [
    {
     "data": {
      "image/png": "[encoded data removed]",
      "text/plain": [
       "<Figure size 1440x720 with 1 Axes>"
      ]
     },
     "metadata": {
      "needs_background": "light"
     },
     "output_type": "display_data"
    }
   ],
   "source": [
    "plt.figure(figsize = (20, 10))\n",
    "plt.rcParams.update({'font.size': 16})\n",
    "plt.xlabel(\"\\nQuantidade de candidatos sem votos por grau de escolaridade\\n\")\n",
    "plt.ylabel(\"Grau de escolaridade\")\n",
    "plt.title(\"\\nQuantidade de candidatos por grau de escolaridade\\n\")\n",
    "plt.barh(grauEscolaridade.index, grauEscolaridade.values, color = 'blue')\n",
    "plt.show()"
   ]
  }
 ],
 "metadata": {
  "kernelspec": {
   "display_name": "Python 3",
   "language": "python",
   "name": "python3"
  },
  "language_info": {
   "codemirror_mode": {
    "name": "ipython",
    "version": 3
   },
   "file_extension": ".py",
   "mimetype": "text/x-python",
   "name": "python",
   "nbconvert_exporter": "python",
   "pygments_lexer": "ipython3",
   "version": "3.8.3"
  }
 },
 "nbformat": 4,
 "nbformat_minor": 4
}
